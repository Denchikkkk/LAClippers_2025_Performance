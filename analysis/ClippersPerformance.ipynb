{
 "cells": [
  {
   "cell_type": "code",
   "execution_count": null,
   "metadata": {},
   "outputs": [],
   "source": [
    "import pandas as pd\n",
    "import seaborn as sns\n",
    "import matplotlib.pyplot as plt"
   ]
  },
  {
   "cell_type": "code",
   "execution_count": null,
   "metadata": {},
   "outputs": [],
   "source": [
    "# Colors to show wins vs losses.\n",
    "color_mapping = {\"W\":\"seagreen\",\n",
    "                 \"L\":\"salmon\"}"
   ]
  },
  {
   "cell_type": "code",
   "execution_count": null,
   "metadata": {},
   "outputs": [],
   "source": [
    "playsData = pd.read_csv('OnlyClippersPlays.csv')\n",
    "gamesData = pd.read_csv('ClippersSchedule2425.csv')"
   ]
  },
  {
   "cell_type": "code",
   "execution_count": null,
   "metadata": {},
   "outputs": [],
   "source": [
    "playsData = pd.read_csv('OnlyClippersPlays.csv')\n",
    "playsData['PLAYED_TIME'] = pd.to_timedelta(playsData['PLAYED_TIME']).dt.total_seconds()\n",
    "\n",
    "playsData = playsData.merge(gamesData, on=\"GAME_ID\",how=\"left\")\n",
    "\n",
    "playsData['COLOR'] = playsData[\"WL\"].map(color_mapping)\n",
    "playsData.head()"
   ]
  },
  {
   "cell_type": "code",
   "execution_count": null,
   "metadata": {},
   "outputs": [],
   "source": [
    "gamesData = gamesData.sort_values('GAME_DATE')\n",
    "wins = 0\n",
    "losses = 0\n",
    "winsList = []\n",
    "lossesList = []\n",
    "pct = []\n",
    "for i in range(len(gamesData)):\n",
    "    if gamesData.iloc[i]['WL'] == \"W\": wins+=1\n",
    "    else: losses+=1\n",
    "    winsList.append(wins)\n",
    "    lossesList.append(losses)\n",
    "    pct.append(wins/(wins+losses))\n",
    "gamesData['WINS'] = winsList\n",
    "gamesData['LOSSES'] = lossesList\n",
    "gamesData['PCT'] = pct\n",
    "gamesData['GAME_DATE'] = pd.to_datetime(gamesData['GAME_DATE'])\n",
    "gamesData['GAME_MONTH'] = gamesData['GAME_DATE'].dt.month\n",
    "\n",
    "month_colors = ['red','green','blue','orange','pink','black','yellow','yellow','yellow','pink','black','grey']\n",
    "gamesData['MONTH_COLOR'] = gamesData['GAME_MONTH'].apply(lambda x:month_colors[x-1])\n",
    "gamesData"
   ]
  },
  {
   "cell_type": "code",
   "execution_count": null,
   "metadata": {},
   "outputs": [],
   "source": [
    "plt.figure(figsize=(10, 5))\n",
    "\n",
    "sns.barplot(x=\"GAME_DATE\",y=\"PCT\",hue=\"GAME_MONTH\",data=gamesData, palette=gamesData['MONTH_COLOR'].unique(), legend=True)\n",
    "\n",
    "plt.ylim(0.3,0.68)\n",
    "plt.show()"
   ]
  },
  {
   "cell_type": "code",
   "execution_count": null,
   "metadata": {},
   "outputs": [],
   "source": [
    "playsData"
   ]
  },
  {
   "cell_type": "code",
   "execution_count": null,
   "metadata": {},
   "outputs": [],
   "source": [
    "plt.figure(figsize=(10, 5))\n",
    "\n",
    "sns.lineplot(playsData, x=\"PLAYED_TIME\",y=\"LAC_SCORE\", hue=\"GAME_ID\",palette=playsData[\"COLOR\"].values,legend=False)\n",
    "plt.grid(True)"
   ]
  },
  {
   "cell_type": "code",
   "execution_count": null,
   "metadata": {},
   "outputs": [],
   "source": []
  }
 ],
 "metadata": {
  "kernelspec": {
   "display_name": "Python 3",
   "language": "python",
   "name": "python3"
  },
  "language_info": {
   "codemirror_mode": {
    "name": "ipython",
    "version": 3
   },
   "file_extension": ".py",
   "mimetype": "text/x-python",
   "name": "python",
   "nbconvert_exporter": "python",
   "pygments_lexer": "ipython3",
   "version": "3.10.11"
  },
  "orig_nbformat": 4
 },
 "nbformat": 4,
 "nbformat_minor": 2
}
