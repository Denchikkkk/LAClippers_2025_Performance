{
 "cells": [
  {
   "cell_type": "code",
   "execution_count": 2,
   "metadata": {},
   "outputs": [],
   "source": [
    "import pandas as pd"
   ]
  },
  {
   "cell_type": "code",
   "execution_count": null,
   "metadata": {},
   "outputs": [],
   "source": [
    "!pip install  nba_api"
   ]
  },
  {
   "cell_type": "code",
   "execution_count": 64,
   "metadata": {},
   "outputs": [
    {
     "name": "stdout",
     "output_type": "stream",
     "text": [
      "clippers_id: 1610612746\n"
     ]
    }
   ],
   "source": [
    "from nba_api.stats.static import teams\n",
    "\n",
    "nba_teams = teams.get_teams()\n",
    "\n",
    "# We select the LA Clippers and we extract the team id\n",
    "clippers = [team for team in nba_teams if team['abbreviation'] == 'LAC'][0]\n",
    "clippers_id = clippers['id'] \n",
    "print(f\"clippers_id: {clippers_id}\")"
   ]
  },
  {
   "cell_type": "code",
   "execution_count": 65,
   "metadata": {},
   "outputs": [],
   "source": [
    "# We extract all 2024-25 season Clippers' games\n",
    "from nba_api.stats.endpoints import leaguegamefinder\n",
    "\n",
    "gamefinder = leaguegamefinder.LeagueGameFinder(team_id_nullable=clippers_id,\n",
    "                                            season_nullable='2024-25',\n",
    "                                            season_type_nullable='Regular Season')\n",
    "\n",
    "games = gamefinder.get_normalized_dict()['LeagueGameFinderResults']"
   ]
  },
  {
   "cell_type": "code",
   "execution_count": 66,
   "metadata": {},
   "outputs": [
    {
     "data": {
      "text/html": [
       "<div>\n",
       "<style scoped>\n",
       "    .dataframe tbody tr th:only-of-type {\n",
       "        vertical-align: middle;\n",
       "    }\n",
       "\n",
       "    .dataframe tbody tr th {\n",
       "        vertical-align: top;\n",
       "    }\n",
       "\n",
       "    .dataframe thead th {\n",
       "        text-align: right;\n",
       "    }\n",
       "</style>\n",
       "<table border=\"1\" class=\"dataframe\">\n",
       "  <thead>\n",
       "    <tr style=\"text-align: right;\">\n",
       "      <th></th>\n",
       "      <th>TEAM_ID</th>\n",
       "      <th>TEAM_ABBREVIATION</th>\n",
       "      <th>TEAM_NAME</th>\n",
       "      <th>GAME_ID</th>\n",
       "      <th>GAME_DATE</th>\n",
       "      <th>MATCHUP</th>\n",
       "      <th>WL</th>\n",
       "      <th>OPP_TEAM_ABBREVIATION</th>\n",
       "      <th>LAC_PTS</th>\n",
       "      <th>OPP_PTS</th>\n",
       "      <th>PLUS_MINUS</th>\n",
       "      <th>HA</th>\n",
       "    </tr>\n",
       "  </thead>\n",
       "  <tbody>\n",
       "    <tr>\n",
       "      <th>0</th>\n",
       "      <td>1610612746</td>\n",
       "      <td>LAC</td>\n",
       "      <td>LA Clippers</td>\n",
       "      <td>0022401036</td>\n",
       "      <td>2025-03-23</td>\n",
       "      <td>LAC vs. OKC</td>\n",
       "      <td>L</td>\n",
       "      <td>OKC</td>\n",
       "      <td>101</td>\n",
       "      <td>103</td>\n",
       "      <td>-2.0</td>\n",
       "      <td>H</td>\n",
       "    </tr>\n",
       "    <tr>\n",
       "      <th>1</th>\n",
       "      <td>1610612746</td>\n",
       "      <td>LAC</td>\n",
       "      <td>LA Clippers</td>\n",
       "      <td>0022401023</td>\n",
       "      <td>2025-03-21</td>\n",
       "      <td>LAC vs. MEM</td>\n",
       "      <td>W</td>\n",
       "      <td>MEM</td>\n",
       "      <td>128</td>\n",
       "      <td>108</td>\n",
       "      <td>20.0</td>\n",
       "      <td>H</td>\n",
       "    </tr>\n",
       "    <tr>\n",
       "      <th>2</th>\n",
       "      <td>1610612746</td>\n",
       "      <td>LAC</td>\n",
       "      <td>LA Clippers</td>\n",
       "      <td>0022400997</td>\n",
       "      <td>2025-03-18</td>\n",
       "      <td>LAC vs. CLE</td>\n",
       "      <td>W</td>\n",
       "      <td>CLE</td>\n",
       "      <td>132</td>\n",
       "      <td>119</td>\n",
       "      <td>13.0</td>\n",
       "      <td>H</td>\n",
       "    </tr>\n",
       "    <tr>\n",
       "      <th>3</th>\n",
       "      <td>1610612746</td>\n",
       "      <td>LAC</td>\n",
       "      <td>LA Clippers</td>\n",
       "      <td>0022400538</td>\n",
       "      <td>2025-03-16</td>\n",
       "      <td>LAC vs. CHA</td>\n",
       "      <td>W</td>\n",
       "      <td>CHA</td>\n",
       "      <td>123</td>\n",
       "      <td>88</td>\n",
       "      <td>35.0</td>\n",
       "      <td>H</td>\n",
       "    </tr>\n",
       "    <tr>\n",
       "      <th>4</th>\n",
       "      <td>1610612746</td>\n",
       "      <td>LAC</td>\n",
       "      <td>LA Clippers</td>\n",
       "      <td>0022400960</td>\n",
       "      <td>2025-03-14</td>\n",
       "      <td>LAC @ ATL</td>\n",
       "      <td>W</td>\n",
       "      <td>ATL</td>\n",
       "      <td>121</td>\n",
       "      <td>98</td>\n",
       "      <td>23.0</td>\n",
       "      <td>A</td>\n",
       "    </tr>\n",
       "  </tbody>\n",
       "</table>\n",
       "</div>"
      ],
      "text/plain": [
       "      TEAM_ID TEAM_ABBREVIATION    TEAM_NAME     GAME_ID   GAME_DATE  \\\n",
       "0  1610612746               LAC  LA Clippers  0022401036  2025-03-23   \n",
       "1  1610612746               LAC  LA Clippers  0022401023  2025-03-21   \n",
       "2  1610612746               LAC  LA Clippers  0022400997  2025-03-18   \n",
       "3  1610612746               LAC  LA Clippers  0022400538  2025-03-16   \n",
       "4  1610612746               LAC  LA Clippers  0022400960  2025-03-14   \n",
       "\n",
       "       MATCHUP WL OPP_TEAM_ABBREVIATION  LAC_PTS  OPP_PTS  PLUS_MINUS HA  \n",
       "0  LAC vs. OKC  L                   OKC      101      103        -2.0  H  \n",
       "1  LAC vs. MEM  W                   MEM      128      108        20.0  H  \n",
       "2  LAC vs. CLE  W                   CLE      132      119        13.0  H  \n",
       "3  LAC vs. CHA  W                   CHA      123       88        35.0  H  \n",
       "4    LAC @ ATL  W                   ATL      121       98        23.0  A  "
      ]
     },
     "execution_count": 66,
     "metadata": {},
     "output_type": "execute_result"
    }
   ],
   "source": [
    "# Function that returns the opponent abbreviation team from the matchup. Ex: LAC vs. OKC => OKC\n",
    "def getOpponentABB(matchup):\n",
    "    return matchup[-3:]\n",
    "\n",
    "# Function that returns the score of the opponent team from our team PTS and the PLUS_MINUS. Ex: PTS=101, PLUS_MINUS=-2 => 103\n",
    "def getOpponentScore(PTS,PLUS_MINUS):\n",
    "    return int(PTS + PLUS_MINUS)\n",
    "\n",
    "# Function that return if the game was played at home (H) or away (A) using matchup info. Ex: LAC vs. OKC => H, LAC @ ATL => A. \n",
    "def getHAValue(matchup):\n",
    "    return 'A' if '@' in matchup else 'H'\n",
    "\n",
    "def loadGamesDF(games):\n",
    "    columns = ['TEAM_ID','TEAM_ABBREVIATION','TEAM_NAME','GAME_ID','GAME_DATE','MATCHUP','WL','OPP_TEAM_ABBREVIATION','LAC_PTS','OPP_PTS','PLUS_MINUS','HA']\n",
    "    gamesDF = pd.DataFrame(games)\n",
    "\n",
    "    gamesDF = gamesDF.rename(columns={f'PTS':'LAC_PTS'})\n",
    "    gamesDF['OPP_TEAM_ABBREVIATION'] = gamesDF['MATCHUP'].apply(getOpponentABB)\n",
    "    gamesDF['OPP_PTS'] = gamesDF.apply(lambda x: getOpponentScore(x['LAC_PTS'],x['PLUS_MINUS']*-1),axis=1)\n",
    "    gamesDF['HA'] = gamesDF['MATCHUP'].apply(getHAValue)\n",
    "\n",
    "    return gamesDF[columns]\n",
    "\n",
    "gamesDF = loadGamesDF(games)\n",
    "gamesDF.head()"
   ]
  },
  {
   "cell_type": "code",
   "execution_count": 107,
   "metadata": {},
   "outputs": [],
   "source": [
    "gamesDF.to_csv('ClippersSchedule2425.csv')"
   ]
  },
  {
   "cell_type": "code",
   "execution_count": 67,
   "metadata": {},
   "outputs": [],
   "source": [
    "plays = pd.DataFrame()"
   ]
  },
  {
   "cell_type": "code",
   "execution_count": 68,
   "metadata": {},
   "outputs": [
    {
     "data": {
      "text/plain": [
       "\"\\nfor id in range(60,75):\\n    playsGame = playbyplay.PlayByPlay(game_id=gamesID[id],timeout=100).get_data_frames()[0][['GAME_ID','EVENTMSGTYPE','PERIOD','PCTIMESTRING','HOMEDESCRIPTION','NEUTRALDESCRIPTION','VISITORDESCRIPTION','SCORE','SCOREMARGIN']]\\n    playsGame = playsGame[playsGame['SCORE'].notnull()] # We get only events that affect the score.\\n    plays = pd.concat([plays,playsGame])\\n\\nplays\\n\""
      ]
     },
     "execution_count": 68,
     "metadata": {},
     "output_type": "execute_result"
    }
   ],
   "source": [
    "from nba_api.stats.endpoints import playbyplay\n",
    "\n",
    "# We extract the GAME ID for each Clippers game.\n",
    "gamesID = [game['GAME_ID'] for game in games]\n",
    "\"\"\"\n",
    "for id in range(60,75):\n",
    "    playsGame = playbyplay.PlayByPlay(game_id=gamesID[id],timeout=100).get_data_frames()[0][['GAME_ID','EVENTMSGTYPE','PERIOD','PCTIMESTRING','HOMEDESCRIPTION','NEUTRALDESCRIPTION','VISITORDESCRIPTION','SCORE','SCOREMARGIN']]\n",
    "    playsGame = playsGame[playsGame['SCORE'].notnull()] # We get only events that affect the score.\n",
    "    plays = pd.concat([plays,playsGame])\n",
    "\n",
    "plays\n",
    "\"\"\""
   ]
  },
  {
   "cell_type": "code",
   "execution_count": 69,
   "metadata": {},
   "outputs": [],
   "source": [
    "#plays.to_csv('ClippersGamesPlays.csv')"
   ]
  },
  {
   "cell_type": "code",
   "execution_count": 73,
   "metadata": {},
   "outputs": [],
   "source": [
    "\n",
    "plays = pd.read_csv('ClippersGamesPlays.csv')"
   ]
  },
  {
   "cell_type": "code",
   "execution_count": 74,
   "metadata": {},
   "outputs": [],
   "source": [
    "from datetime import datetime, date, time\n",
    "\n",
    "# The PCTIMESTRING column give us the time left in the period, while we need to calculate the Total Played Time.\n",
    "def calculateTime(PERIOD,PCTIMESTRING):\n",
    "\n",
    "    # This formula allows us to obtain the played time from the time left and the period. PCTIMESTRING = 10:37, PERIOD = 1 => PLAYED_TIME= 0:01:23\n",
    "\n",
    "    minutes,seconds = PCTIMESTRING.split(':')\n",
    "    try:\n",
    "        timeLeft = datetime.combine(datetime.now().date(),time(0,int(minutes),int(seconds)))\n",
    "        \n",
    "        # Case for overtime.\n",
    "        if PERIOD > 4:\n",
    "            totalMinutes = 48 + 5 * (PERIOD - 4)\n",
    "        else:\n",
    "            totalMinutes = 12 * PERIOD  \n",
    "\n",
    "        periodTime = datetime.combine(datetime.now().date(),time(0,totalMinutes,0))\n",
    "\n",
    "        playedTime = periodTime - timeLeft\n",
    "        playedTime = str(playedTime).split(\", \")[-1]\n",
    "\n",
    "        \n",
    "        return playedTime\n",
    "    except:\n",
    "        print(PERIOD,PCTIMESTRING,minutes,seconds)\n",
    "\n",
    "def getTime(df):\n",
    "    return df.apply(lambda x: calculateTime(x['PERIOD'],x['PCTIMESTRING']),axis=1)\n",
    "\n",
    "plays['PLAYED_TIME'] = getTime(plays)"
   ]
  },
  {
   "cell_type": "code",
   "execution_count": 105,
   "metadata": {},
   "outputs": [
    {
     "data": {
      "text/html": [
       "<div>\n",
       "<style scoped>\n",
       "    .dataframe tbody tr th:only-of-type {\n",
       "        vertical-align: middle;\n",
       "    }\n",
       "\n",
       "    .dataframe tbody tr th {\n",
       "        vertical-align: top;\n",
       "    }\n",
       "\n",
       "    .dataframe thead th {\n",
       "        text-align: right;\n",
       "    }\n",
       "</style>\n",
       "<table border=\"1\" class=\"dataframe\">\n",
       "  <thead>\n",
       "    <tr style=\"text-align: right;\">\n",
       "      <th></th>\n",
       "      <th>Unnamed: 0</th>\n",
       "      <th>GAME_ID</th>\n",
       "      <th>EVENTMSGTYPE</th>\n",
       "      <th>PERIOD</th>\n",
       "      <th>PCTIMESTRING</th>\n",
       "      <th>HOMEDESCRIPTION</th>\n",
       "      <th>NEUTRALDESCRIPTION</th>\n",
       "      <th>VISITORDESCRIPTION</th>\n",
       "      <th>SCORE</th>\n",
       "      <th>SCOREMARGIN</th>\n",
       "      <th>PLAYED_TIME</th>\n",
       "      <th>LAC_SCORE</th>\n",
       "    </tr>\n",
       "  </thead>\n",
       "  <tbody>\n",
       "    <tr>\n",
       "      <th>1</th>\n",
       "      <td>21</td>\n",
       "      <td>22401036</td>\n",
       "      <td>1</td>\n",
       "      <td>1</td>\n",
       "      <td>9:58</td>\n",
       "      <td>Zubac Putback Dunk (2 PTS)</td>\n",
       "      <td>NaN</td>\n",
       "      <td>NaN</td>\n",
       "      <td>2 - 2</td>\n",
       "      <td>TIE</td>\n",
       "      <td>0:02:02</td>\n",
       "      <td>2</td>\n",
       "    </tr>\n",
       "    <tr>\n",
       "      <th>3</th>\n",
       "      <td>23</td>\n",
       "      <td>22401036</td>\n",
       "      <td>1</td>\n",
       "      <td>1</td>\n",
       "      <td>9:30</td>\n",
       "      <td>Zubac 3' Driving Reverse Layup (4 PTS)</td>\n",
       "      <td>NaN</td>\n",
       "      <td>NaN</td>\n",
       "      <td>4 - 4</td>\n",
       "      <td>TIE</td>\n",
       "      <td>0:02:30</td>\n",
       "      <td>4</td>\n",
       "    </tr>\n",
       "    <tr>\n",
       "      <th>5</th>\n",
       "      <td>33</td>\n",
       "      <td>22401036</td>\n",
       "      <td>1</td>\n",
       "      <td>1</td>\n",
       "      <td>7:55</td>\n",
       "      <td>Zubac 7' Driving Hook Shot (6 PTS) (Harden 1 AST)</td>\n",
       "      <td>NaN</td>\n",
       "      <td>NaN</td>\n",
       "      <td>7 - 6</td>\n",
       "      <td>-1</td>\n",
       "      <td>0:04:05</td>\n",
       "      <td>6</td>\n",
       "    </tr>\n",
       "    <tr>\n",
       "      <th>7</th>\n",
       "      <td>35</td>\n",
       "      <td>22401036</td>\n",
       "      <td>1</td>\n",
       "      <td>1</td>\n",
       "      <td>7:16</td>\n",
       "      <td>Dunn 8' Driving Floating Jump Shot (2 PTS) (Ha...</td>\n",
       "      <td>NaN</td>\n",
       "      <td>NaN</td>\n",
       "      <td>9 - 8</td>\n",
       "      <td>-1</td>\n",
       "      <td>0:04:44</td>\n",
       "      <td>8</td>\n",
       "    </tr>\n",
       "    <tr>\n",
       "      <th>9</th>\n",
       "      <td>40</td>\n",
       "      <td>22401036</td>\n",
       "      <td>1</td>\n",
       "      <td>1</td>\n",
       "      <td>6:26</td>\n",
       "      <td>Dunn 10' Driving Floating Jump Shot (4 PTS) (L...</td>\n",
       "      <td>NaN</td>\n",
       "      <td>NaN</td>\n",
       "      <td>12 - 10</td>\n",
       "      <td>-2</td>\n",
       "      <td>0:05:34</td>\n",
       "      <td>10</td>\n",
       "    </tr>\n",
       "  </tbody>\n",
       "</table>\n",
       "</div>"
      ],
      "text/plain": [
       "   Unnamed: 0   GAME_ID  EVENTMSGTYPE  PERIOD PCTIMESTRING  \\\n",
       "1          21  22401036             1       1         9:58   \n",
       "3          23  22401036             1       1         9:30   \n",
       "5          33  22401036             1       1         7:55   \n",
       "7          35  22401036             1       1         7:16   \n",
       "9          40  22401036             1       1         6:26   \n",
       "\n",
       "                                     HOMEDESCRIPTION NEUTRALDESCRIPTION  \\\n",
       "1                         Zubac Putback Dunk (2 PTS)                NaN   \n",
       "3             Zubac 3' Driving Reverse Layup (4 PTS)                NaN   \n",
       "5  Zubac 7' Driving Hook Shot (6 PTS) (Harden 1 AST)                NaN   \n",
       "7  Dunn 8' Driving Floating Jump Shot (2 PTS) (Ha...                NaN   \n",
       "9  Dunn 10' Driving Floating Jump Shot (4 PTS) (L...                NaN   \n",
       "\n",
       "  VISITORDESCRIPTION    SCORE SCOREMARGIN PLAYED_TIME LAC_SCORE  \n",
       "1                NaN    2 - 2         TIE     0:02:02         2  \n",
       "3                NaN    4 - 4         TIE     0:02:30         4  \n",
       "5                NaN    7 - 6          -1     0:04:05         6  \n",
       "7                NaN    9 - 8          -1     0:04:44         8  \n",
       "9                NaN  12 - 10          -2     0:05:34        10  "
      ]
     },
     "execution_count": 105,
     "metadata": {},
     "output_type": "execute_result"
    }
   ],
   "source": [
    "clippersPlays = pd.DataFrame()\n",
    "\n",
    "def extractTeamScore(HOME,SCORE):\n",
    "    visitorScore, homeScore = SCORE.split('-')\n",
    "    if pd.isna(HOME):\n",
    "        return visitorScore\n",
    "    else:\n",
    "        return homeScore\n",
    "    \n",
    "def getOurTeamPlays(gamesDF,plays, clippersPlays):\n",
    "    for game in gamesDF.iterrows():\n",
    "        gameID, HA = game[1][['GAME_ID','HA']]\n",
    "        if HA == 'H':\n",
    "            clippersPlays = pd.concat([clippersPlays, plays[(plays['HOMEDESCRIPTION'].notnull()) & (plays['GAME_ID']==int(gameID))]])\n",
    "        else:\n",
    "            clippersPlays = pd.concat([clippersPlays, plays[(plays['VISITORDESCRIPTION'].notnull()) & (plays['GAME_ID']==int(gameID))]])\n",
    "\n",
    "    clippersPlays['LAC_SCORE'] = clippersPlays.apply(lambda x: extractTeamScore(x['HOMEDESCRIPTION'],x['SCORE']),axis=1)\n",
    "    return clippersPlays\n",
    "\n",
    "clippersPlays = getOurTeamPlays(gamesDF,plays, clippersPlays)\n",
    "clippersPlays.head()"
   ]
  },
  {
   "cell_type": "code",
   "execution_count": 106,
   "metadata": {},
   "outputs": [],
   "source": [
    "clippersPlays.to_csv('OnlyClippersPlays.csv')"
   ]
  },
  {
   "cell_type": "code",
   "execution_count": 69,
   "metadata": {},
   "outputs": [],
   "source": [
    "import seaborn as sns\n",
    "import matplotlib.pyplot as plt"
   ]
  },
  {
   "cell_type": "code",
   "execution_count": 77,
   "metadata": {},
   "outputs": [
    {
     "data": {
      "image/png": "[encoded data removed]",
      "text/plain": [
       "<Figure size 640x480 with 1 Axes>"
      ]
     },
     "metadata": {},
     "output_type": "display_data"
    }
   ],
   "source": [
    "sns.boxplot(data=gamesDF,x=\"WL\",y=\"LAC_PTS\")\n",
    "sns.scatterplot(data=gamesDF, x=\"WL\",y=\"LAC_PTS\")\n",
    "plt.show()"
   ]
  },
  {
   "cell_type": "code",
   "execution_count": null,
   "metadata": {},
   "outputs": [],
   "source": []
  }
 ],
 "metadata": {
  "kernelspec": {
   "display_name": "Python 3",
   "language": "python",
   "name": "python3"
  },
  "language_info": {
   "codemirror_mode": {
    "name": "ipython",
    "version": 3
   },
   "file_extension": ".py",
   "mimetype": "text/x-python",
   "name": "python",
   "nbconvert_exporter": "python",
   "pygments_lexer": "ipython3",
   "version": "3.10.11"
  },
  "orig_nbformat": 4
 },
 "nbformat": 4,
 "nbformat_minor": 2
}
